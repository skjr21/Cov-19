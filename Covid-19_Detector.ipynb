{
 "cells": [
  {
   "cell_type": "markdown",
   "id": "c4de5bcb",
   "metadata": {},
   "source": [
    "## Import Relevant Libraries"
   ]
  },
  {
   "cell_type": "code",
   "execution_count": 1,
   "id": "24f44bf7",
   "metadata": {},
   "outputs": [],
   "source": [
    "import numpy as np\n",
    "import matplotlib.pyplot as plt\n",
    "import keras\n",
    "from keras.layers import *\n",
    "from keras.models import *\n",
    "from keras.preprocessing import image"
   ]
  },
  {
   "cell_type": "code",
   "execution_count": null,
   "id": "125ea719",
   "metadata": {},
   "outputs": [],
   "source": [
    "# The link for the data collected from kaggle and github\n",
    "# https://drive.google.com/file/d/1TtC4tejjYWDqa84K4DGy4dfFQX0Envkh/view?usp=sharing"
   ]
  },
  {
   "cell_type": "markdown",
   "id": "91660f44",
   "metadata": {},
   "source": [
    "## Setting the path from where data is to be obtained"
   ]
  },
  {
   "cell_type": "code",
   "execution_count": 2,
   "id": "9b13281f",
   "metadata": {},
   "outputs": [],
   "source": [
    "path_train=\"CovidDataset/Train\"\n",
    "path_val=\"CovidDataset/Val\""
   ]
  },
  {
   "cell_type": "markdown",
   "id": "bd658d36",
   "metadata": {},
   "source": [
    "## Creating the CNN Model"
   ]
  },
  {
   "cell_type": "code",
   "execution_count": 3,
   "id": "b834860d",
   "metadata": {},
   "outputs": [
    {
     "name": "stdout",
     "output_type": "stream",
     "text": [
      "Model: \"sequential\"\n",
      "_________________________________________________________________\n",
      "Layer (type)                 Output Shape              Param #   \n",
      "=================================================================\n",
      "conv2d (Conv2D)              (None, 222, 222, 32)      896       \n",
      "_________________________________________________________________\n",
      "conv2d_1 (Conv2D)            (None, 220, 220, 64)      18496     \n",
      "_________________________________________________________________\n",
      "max_pooling2d (MaxPooling2D) (None, 110, 110, 64)      0         \n",
      "_________________________________________________________________\n",
      "dropout (Dropout)            (None, 110, 110, 64)      0         \n",
      "_________________________________________________________________\n",
      "conv2d_2 (Conv2D)            (None, 108, 108, 64)      36928     \n",
      "_________________________________________________________________\n",
      "max_pooling2d_1 (MaxPooling2 (None, 54, 54, 64)        0         \n",
      "_________________________________________________________________\n",
      "dropout_1 (Dropout)          (None, 54, 54, 64)        0         \n",
      "_________________________________________________________________\n",
      "conv2d_3 (Conv2D)            (None, 52, 52, 128)       73856     \n",
      "_________________________________________________________________\n",
      "max_pooling2d_2 (MaxPooling2 (None, 26, 26, 128)       0         \n",
      "_________________________________________________________________\n",
      "dropout_2 (Dropout)          (None, 26, 26, 128)       0         \n",
      "_________________________________________________________________\n",
      "flatten (Flatten)            (None, 86528)             0         \n",
      "_________________________________________________________________\n",
      "dense (Dense)                (None, 64)                5537856   \n",
      "_________________________________________________________________\n",
      "dropout_3 (Dropout)          (None, 64)                0         \n",
      "_________________________________________________________________\n",
      "dense_1 (Dense)              (None, 1)                 65        \n",
      "=================================================================\n",
      "Total params: 5,668,097\n",
      "Trainable params: 5,668,097\n",
      "Non-trainable params: 0\n",
      "_________________________________________________________________\n"
     ]
    }
   ],
   "source": [
    "model=Sequential()\n",
    "\n",
    "model.add(Conv2D(32,(3,3),activation=\"relu\",input_shape=(224,224,3)))\n",
    "model.add(Conv2D(64,(3,3),activation=\"relu\",))\n",
    "model.add(MaxPooling2D((2,2)))\n",
    "model.add(Dropout(0.25))\n",
    "\n",
    "model.add(Conv2D(64,(3,3),activation=\"relu\"))\n",
    "model.add(MaxPooling2D((2,2)))\n",
    "model.add(Dropout(0.25))\n",
    "\n",
    "model.add(Conv2D(128,(3,3),activation=\"relu\"))\n",
    "model.add(MaxPooling2D((2,2)))\n",
    "model.add(Dropout(0.25))\n",
    "\n",
    "model.add(Flatten())\n",
    "model.add(Dense(64,activation=\"relu\"))\n",
    "model.add(Dropout(0.25))\n",
    "model.add(Dense(1,activation=\"sigmoid\"))\n",
    "\n",
    "model.compile(loss=keras.losses.binary_crossentropy,\n",
    "              optimizer=\"adam\",\n",
    "              metrics=[\"accuracy\"])\n",
    "\n",
    "model.summary()"
   ]
  },
  {
   "cell_type": "markdown",
   "id": "82b308ba",
   "metadata": {},
   "source": [
    "### Creating a generator which will go through the directories and randomly give a batch of images"
   ]
  },
  {
   "cell_type": "code",
   "execution_count": 4,
   "id": "5c57b63d",
   "metadata": {},
   "outputs": [
    {
     "name": "stdout",
     "output_type": "stream",
     "text": [
      "Found 224 images belonging to 2 classes.\n"
     ]
    }
   ],
   "source": [
    "train_datagen=image.ImageDataGenerator(rescale=1.0/255.0,\n",
    "                                       shear_range=0.2,\n",
    "                                       zoom_range=0.2,\n",
    "                                       horizontal_flip=True)\n",
    "\n",
    "train_data_generator=train_datagen.flow_from_directory(path_train,\n",
    "                                                       target_size=(224,224),\n",
    "                                                       batch_size=32,\n",
    "                                                       class_mode=\"binary\")\n"
   ]
  },
  {
   "cell_type": "code",
   "execution_count": null,
   "id": "e28acebe",
   "metadata": {},
   "outputs": [],
   "source": [
    "\n"
   ]
  },
  {
   "cell_type": "markdown",
   "id": "fe7e10a2",
   "metadata": {},
   "source": [
    "### Creating a similar generator (but without augmentation) for validation data"
   ]
  },
  {
   "cell_type": "code",
   "execution_count": 5,
   "id": "8ed36280",
   "metadata": {},
   "outputs": [
    {
     "name": "stdout",
     "output_type": "stream",
     "text": [
      "Found 60 images belonging to 2 classes.\n"
     ]
    }
   ],
   "source": [
    "val_datagen=image.ImageDataGenerator(rescale=1.0/255.0)\n",
    "\n",
    "val_data_generator=val_datagen.flow_from_directory(path_val,\n",
    "                               target_size=(224,224),\n",
    "                               batch_size=32,\n",
    "                               class_mode=\"binary\")"
   ]
  },
  {
   "cell_type": "markdown",
   "id": "9d53bf55",
   "metadata": {},
   "source": [
    "### Running the model keeping the history of every step"
   ]
  },
  {
   "cell_type": "code",
   "execution_count": 6,
   "id": "d99b598e",
   "metadata": {},
   "outputs": [
    {
     "name": "stdout",
     "output_type": "stream",
     "text": [
      "WARNING:tensorflow:From <ipython-input-6-aca117f364bd>:1: Model.fit_generator (from tensorflow.python.keras.engine.training) is deprecated and will be removed in a future version.\n",
      "Instructions for updating:\n",
      "Please use Model.fit, which supports generators.\n",
      "Epoch 1/10\n",
      "7/7 [==============================] - 27s 4s/step - loss: 1.8236 - accuracy: 0.4688 - val_loss: 0.6939 - val_accuracy: 0.5000\n",
      "Epoch 2/10\n",
      "7/7 [==============================] - 28s 4s/step - loss: 0.6579 - accuracy: 0.5580 - val_loss: 0.6343 - val_accuracy: 0.8667\n",
      "Epoch 3/10\n",
      "7/7 [==============================] - 27s 4s/step - loss: 0.4393 - accuracy: 0.8393 - val_loss: 0.3589 - val_accuracy: 0.8667\n",
      "Epoch 4/10\n",
      "7/7 [==============================] - 32s 5s/step - loss: 0.3311 - accuracy: 0.8571 - val_loss: 0.2378 - val_accuracy: 0.9500\n",
      "Epoch 5/10\n",
      "7/7 [==============================] - 34s 5s/step - loss: 0.2436 - accuracy: 0.9286 - val_loss: 0.1589 - val_accuracy: 0.9500\n",
      "Epoch 6/10\n",
      "7/7 [==============================] - 31s 4s/step - loss: 0.2162 - accuracy: 0.9152 - val_loss: 0.1795 - val_accuracy: 0.9167\n",
      "Epoch 7/10\n",
      "7/7 [==============================] - 31s 4s/step - loss: 0.2079 - accuracy: 0.9196 - val_loss: 0.1472 - val_accuracy: 0.9500\n",
      "Epoch 8/10\n",
      "7/7 [==============================] - 30s 4s/step - loss: 0.1633 - accuracy: 0.9375 - val_loss: 0.0937 - val_accuracy: 0.9833\n",
      "Epoch 9/10\n",
      "7/7 [==============================] - 30s 4s/step - loss: 0.1108 - accuracy: 0.9554 - val_loss: 0.0703 - val_accuracy: 0.9667\n",
      "Epoch 10/10\n",
      "7/7 [==============================] - 30s 4s/step - loss: 0.1546 - accuracy: 0.9732 - val_loss: 0.1081 - val_accuracy: 0.9833\n"
     ]
    }
   ],
   "source": [
    "hist=model.fit_generator(generator=train_data_generator,\n",
    "                         steps_per_epoch=7,\n",
    "                         epochs=10,\n",
    "                         validation_data=val_data_generator,\n",
    "                         validation_steps=2)"
   ]
  },
  {
   "cell_type": "code",
   "execution_count": 7,
   "id": "026053c8",
   "metadata": {},
   "outputs": [
    {
     "data": {
      "text/plain": [
       "{'Covid': 0, 'Normal': 1}"
      ]
     },
     "execution_count": 7,
     "metadata": {},
     "output_type": "execute_result"
    }
   ],
   "source": [
    "train_data_generator.class_indices"
   ]
  },
  {
   "cell_type": "code",
   "execution_count": null,
   "id": "6b7d09c6",
   "metadata": {},
   "outputs": [],
   "source": []
  },
  {
   "cell_type": "markdown",
   "id": "fa127f1e",
   "metadata": {},
   "source": [
    "### Plotting the path of accuracy and loss through epochs using history object"
   ]
  },
  {
   "cell_type": "code",
   "execution_count": 8,
   "id": "fcbb32db",
   "metadata": {},
   "outputs": [],
   "source": [
    "acc=hist.history['accuracy']\n",
    "val_acc=hist.history['val_accuracy']\n",
    "loss=hist.history['loss']\n",
    "val_loss=hist.history['val_loss']"
   ]
  },
  {
   "cell_type": "code",
   "execution_count": 9,
   "id": "fa9642f2",
   "metadata": {},
   "outputs": [
    {
     "data": {
      "image/png": "[encoded data removed]",
      "text/plain": [
       "<Figure size 432x288 with 1 Axes>"
      ]
     },
     "metadata": {
      "needs_background": "light"
     },
     "output_type": "display_data"
    }
   ],
   "source": [
    "plt.plot(acc,label='Training Accuracy')\n",
    "plt.legend()\n",
    "plt.show()"
   ]
  },
  {
   "cell_type": "code",
   "execution_count": 10,
   "id": "ea97cd7c",
   "metadata": {},
   "outputs": [
    {
     "data": {
      "image/png": "[encoded data removed]",
      "text/plain": [
       "<Figure size 432x288 with 1 Axes>"
      ]
     },
     "metadata": {
      "needs_background": "light"
     },
     "output_type": "display_data"
    }
   ],
   "source": [
    "plt.plot(val_acc,label=\"Validation Accuracy\")\n",
    "plt.legend()\n",
    "plt.show()"
   ]
  },
  {
   "cell_type": "code",
   "execution_count": 11,
   "id": "4d813000",
   "metadata": {},
   "outputs": [
    {
     "data": {
      "image/png": "[encoded data removed]",
      "text/plain": [
       "<Figure size 432x288 with 1 Axes>"
      ]
     },
     "metadata": {
      "needs_background": "light"
     },
     "output_type": "display_data"
    }
   ],
   "source": [
    "plt.plot(loss,label=\"Training Loss\")\n",
    "plt.legend()\n",
    "plt.show()"
   ]
  },
  {
   "cell_type": "code",
   "execution_count": 12,
   "id": "24277ff8",
   "metadata": {},
   "outputs": [
    {
     "data": {
      "image/png": "[encoded data removed]",
      "text/plain": [
       "<Figure size 432x288 with 1 Axes>"
      ]
     },
     "metadata": {
      "needs_background": "light"
     },
     "output_type": "display_data"
    }
   ],
   "source": [
    "plt.plot(val_loss,label=\"Validation loss\")\n",
    "plt.legend()\n",
    "plt.show()"
   ]
  },
  {
   "cell_type": "code",
   "execution_count": null,
   "id": "58ed3caa",
   "metadata": {},
   "outputs": [],
   "source": []
  }
 ],
 "metadata": {
  "kernelspec": {
   "display_name": "Python 3",
   "language": "python",
   "name": "python3"
  },
  "language_info": {
   "codemirror_mode": {
    "name": "ipython",
    "version": 3
   },
   "file_extension": ".py",
   "mimetype": "text/x-python",
   "name": "python",
   "nbconvert_exporter": "python",
   "pygments_lexer": "ipython3",
   "version": "3.8.10"
  }
 },
 "nbformat": 4,
 "nbformat_minor": 5
}
